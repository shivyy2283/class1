{
  "nbformat": 4,
  "nbformat_minor": 0,
  "metadata": {
    "colab": {
      "provenance": [],
      "collapsed_sections": [],
      "include_colab_link": true
    },
    "kernelspec": {
      "name": "python3",
      "display_name": "Python 3"
    },
    "language_info": {
      "name": "python"
    }
  },
  "cells": [
    {
      "cell_type": "markdown",
      "metadata": {
        "id": "view-in-github",
        "colab_type": "text"
      },
      "source": [
        "<a href=\"https://colab.research.google.com/github/shivyy2283/class1/blob/main/Copy_of_Copy_of_PESUIO_Slot_14_class_1.ipynb\" target=\"_parent\"><img src=\"https://colab.research.google.com/assets/colab-badge.svg\" alt=\"Open In Colab\"/></a>"
      ]
    },
    {
      "cell_type": "markdown",
      "source": [
        "Welcome to the first class of undersanding ML algorithms\n",
        "Today you will get yourselves familiar with python and essentially get to dive into the basics of some libraries that you will be learning about throughout this course."
      ],
      "metadata": {
        "id": "uxWHk4LP14P2"
      }
    },
    {
      "cell_type": "code",
      "source": [
        "#@title Example form fields\n",
        "#@markdown Forms support many types of fields.\n",
        "\n",
        "no_type_checking = ''  #@param\n",
        "string_type = 'example'  #@param {type: \"string\"}\n",
        "slider_value = 142  #@param {type: \"slider\", min: 100, max: 200}\n",
        "number = 102  #@param {type: \"number\"}\n",
        "date = '2010-11-05'  #@param {type: \"date\"}\n",
        "pick_me = \"monday\"  #@param ['monday', 'tuesday', 'wednesday', 'thursday']\n",
        "select_or_input = \"apples\" #@param [\"apples\", \"bananas\", \"oranges\"] {allow-input: true}\n",
        "#@markdown ---\n"
      ],
      "metadata": {
        "id": "EfE5m9PZ3ZCq"
      },
      "execution_count": null,
      "outputs": []
    },
    {
      "cell_type": "code",
      "source": [],
      "metadata": {
        "id": "fKIvZ8hWRbUk"
      },
      "execution_count": null,
      "outputs": []
    },
    {
      "cell_type": "markdown",
      "source": [
        "The Most basic Hello World program:"
      ],
      "metadata": {
        "id": "4TUobwcn2cvz"
      }
    },
    {
      "cell_type": "code",
      "source": [
        "print(\"Hello World!\")"
      ],
      "metadata": {
        "colab": {
          "base_uri": "https://localhost:8080/"
        },
        "id": "hE7C8tL22lmD",
        "outputId": "e53c1262-c105-4736-9974-ea50ea2dbfc4"
      },
      "execution_count": null,
      "outputs": [
        {
          "output_type": "stream",
          "name": "stdout",
          "text": [
            "Hello World!\n"
          ]
        }
      ]
    },
    {
      "cell_type": "markdown",
      "source": [
        "Concept of variables and data types :\n",
        "EXERCISE: A travel company wants to fly a plane to the Bahamas. Flying the plane costs 5000 dollars. So far, 29 people have signed up for the trip. If the company charges 200 dollars per ticket, what is the profit made by the company? Create variables for each numeric quantity and use appropriate arithmetic operations."
      ],
      "metadata": {
        "id": "ovKfTdej2B9R"
      }
    },
    {
      "cell_type": "code",
      "source": [
        "customer = 29\n",
        "charge = 200\n",
        "plane = 5000\n",
        "profit = (charge*customer) - plane\n",
        "print(\"profit: \",profit)"
      ],
      "metadata": {
        "id": "vxkFv26E23qA",
        "colab": {
          "base_uri": "https://localhost:8080/"
        },
        "outputId": "25673086-1d5a-4416-aaaa-764ef3cb61e9"
      },
      "execution_count": null,
      "outputs": [
        {
          "output_type": "stream",
          "name": "stdout",
          "text": [
            "profit:  800\n"
          ]
        }
      ]
    },
    {
      "cell_type": "markdown",
      "source": [
        "Concept of a conditional statement or a set of conditional statements and cases :\n",
        "Write a code snippet which evaluates whether a number is a multiple of just 2 , just 3 , or both 2 and 3 (multiple of 6)"
      ],
      "metadata": {
        "id": "xjAB_LDJ24I3"
      }
    },
    {
      "cell_type": "code",
      "source": [
        "#use if-else statements and print out the required information:\n",
        "num = 12\n",
        "#complete this area\n",
        "if(num%2 == 0 and num%3 == 0):\n",
        "  print(\"multiple of 2 and 3\")\n",
        "else:\n",
        "  if(num%2 == 0):\n",
        "    print(\"just 2\")\n",
        "  else:\n",
        "    print(\"just 3\")\n"
      ],
      "metadata": {
        "id": "m_ZVPJuN3AXP",
        "colab": {
          "base_uri": "https://localhost:8080/"
        },
        "outputId": "2d67fd33-1ede-4579-a57c-16101ec3cde7"
      },
      "execution_count": null,
      "outputs": [
        {
          "output_type": "stream",
          "name": "stdout",
          "text": [
            "multiple of 2 and 3\n"
          ]
        }
      ]
    },
    {
      "cell_type": "markdown",
      "source": [
        "Concept of loops:\n",
        "Write a program to count the number of vowels in the given string:\n",
        "ANTIESTABLISHMENTARIANISTICALLY"
      ],
      "metadata": {
        "id": "O2bGzmzO3s9L"
      }
    },
    {
      "cell_type": "code",
      "source": [
        "str = \"ANTIESTABLISHMENTARIANISTICALLY\"\n",
        "count = 0\n",
        "for s in str:\n",
        "  if(s == 'a' or s == 'A' or s=='e' or s=='E' or s =='i'or s =='I'or s =='o' or s =='O' or s=='u' or s =='U'):\n",
        "    count = count + 1\n",
        "print(\"no of vowels :\" , count)"
      ],
      "metadata": {
        "id": "4g7drYH83vYE",
        "colab": {
          "base_uri": "https://localhost:8080/"
        },
        "outputId": "2f4d2070-f789-45e3-9eaf-f9bd819bc970"
      },
      "execution_count": null,
      "outputs": [
        {
          "output_type": "stream",
          "name": "stdout",
          "text": [
            "no of vowels : 12\n"
          ]
        }
      ]
    },
    {
      "cell_type": "markdown",
      "source": [
        "learning what each data- structure in python does and using all their functions:\n"
      ],
      "metadata": {
        "id": "e4Vc9Nw84bD5"
      }
    },
    {
      "cell_type": "markdown",
      "source": [
        "LISTS AND ITS FUNCTIONALITY:"
      ],
      "metadata": {
        "id": "OaEbJ_LY4joh"
      }
    },
    {
      "cell_type": "code",
      "source": [
        "#Define a random list of fruits \n",
        "\n",
        "#iterate over the list and find the name of the fruit which has the smallest word length\n",
        "\n",
        "# append a vegetable to your existing list\n",
        "\n",
        "# find the size of your list\n",
        "\n",
        "# add enough fruits such that your list size if greater that 4\n",
        "\n",
        "# delete the 2nd fruit(1st index) from your list:\n",
        "\n",
        "# add your name in the 4th position of the list (3rd index)\n",
        "\n",
        "#have fun and try out any 4-5 pre-defined fucntions on a list as seen in the python list documentation\n",
        "\n"
      ],
      "metadata": {
        "id": "rjle8Jat4n7b"
      },
      "execution_count": null,
      "outputs": []
    },
    {
      "cell_type": "code",
      "source": [
        "fruits = [\"kiwi\" , \"apple\" , \"guava\" , \"watermelon\"]\n",
        "fruit = fruits[0]\n",
        "ans = fruit\n",
        "for i in fruits:\n",
        "  if(len(i) < len(fruit)):\n",
        "    ans = i\n",
        "print(\"fruit with smallest word length :\",ans)\n",
        "print(len(fruits))\n",
        "fruits.append(\"beans\")\n",
        "fruits.append(\"mango\")\n",
        "print(fruits)\n",
        "print(len(fruits))\n",
        "fruits.pop(1)\n",
        "print(fruits)\n",
        "fruits.insert(3,\"shivani\")\n",
        "print(fruits)\n",
        "fruits.append(\"carrot\")\n",
        "print(fruits)\n",
        "fruits.reverse()\n",
        "print(fruits)\n",
        "fruits.sort()\n",
        "print(fruits)\n",
        "fruits.clear()\n",
        "print(fruits)\n"
      ],
      "metadata": {
        "colab": {
          "base_uri": "https://localhost:8080/"
        },
        "id": "d9w0lKx6PAyw",
        "outputId": "024829b0-8b2a-4350-c8f3-af3e0f220df1"
      },
      "execution_count": null,
      "outputs": [
        {
          "output_type": "stream",
          "name": "stdout",
          "text": [
            "fruit with smallest word length : kiwi\n",
            "4\n",
            "['kiwi', 'apple', 'guava', 'watermelon', 'beans', 'mango']\n",
            "6\n",
            "['kiwi', 'guava', 'watermelon', 'beans', 'mango']\n",
            "['kiwi', 'guava', 'watermelon', 'shivani', 'beans', 'mango']\n",
            "['kiwi', 'guava', 'watermelon', 'shivani', 'beans', 'mango', 'carrot']\n",
            "['carrot', 'mango', 'beans', 'shivani', 'watermelon', 'guava', 'kiwi']\n",
            "['beans', 'carrot', 'guava', 'kiwi', 'mango', 'shivani', 'watermelon']\n",
            "[]\n"
          ]
        }
      ]
    },
    {
      "cell_type": "markdown",
      "source": [
        "TUPLES AND ITS FUNCTIONALITY:"
      ],
      "metadata": {
        "id": "IAYs58gx4oWB"
      }
    },
    {
      "cell_type": "code",
      "source": [
        "#create abd tuple and print its elements \n",
        "\n",
        "#print the type of each value in the tuple\n",
        "\n",
        "#try to change the seconf value in your tuple to \"Caterpillar\"\n",
        "\n",
        "# print the last element of the tuple without using the length of the tuple\n",
        "\n",
        "# slicing is an IMPORTANT concept in python especially since you will all be working on huge amounts of data so try different options \n",
        "# print(a[-2:]), print([:3]) etc...\n",
        "\n",
        "#sort vs sorted function: find the difference in the form of a program:\n"
      ],
      "metadata": {
        "id": "KquFBYey4qzu"
      },
      "execution_count": null,
      "outputs": []
    },
    {
      "cell_type": "code",
      "source": [
        "tup = (1,2,4,3,7,6)\n",
        "print(tup)\n",
        "# tup[2] = \"caterpillar\" - statement gives error\n",
        "print(tup[-2:])\n",
        "print(tup[:3])\n",
        "print(tup[0:])\n",
        "print(tup[2:4])\n",
        "#tup[1] =9\n",
        "print(tup[-1])\n",
        "t = tuple(sorted(tup))\n",
        "print(t)\n",
        "#print(tup.sort())\n",
        "#sort cannot be applied on a tuple as it modifies the original tuple"
      ],
      "metadata": {
        "colab": {
          "base_uri": "https://localhost:8080/"
        },
        "id": "zyAb2ABsIA3Z",
        "outputId": "cfc2f45b-b4a4-4f4a-f658-7671efe4f007"
      },
      "execution_count": null,
      "outputs": [
        {
          "output_type": "stream",
          "name": "stdout",
          "text": [
            "(1, 2, 4, 3, 7, 6)\n",
            "(7, 6)\n",
            "(1, 2, 4)\n",
            "(1, 2, 4, 3, 7, 6)\n",
            "(4, 3)\n",
            "6\n",
            "(1, 2, 3, 4, 6, 7)\n"
          ]
        }
      ]
    },
    {
      "cell_type": "code",
      "source": [],
      "metadata": {
        "id": "e6l2QzuZQvhV"
      },
      "execution_count": null,
      "outputs": []
    },
    {
      "cell_type": "markdown",
      "source": [
        "SETS AND ITS FUNCTIONALITY:"
      ],
      "metadata": {
        "id": "P3xn-gIL4rS6"
      }
    },
    {
      "cell_type": "code",
      "source": [
        "#explore the properties of set and after doing that solve this little puzzle below:"
      ],
      "metadata": {
        "id": "RlURFwFx4viZ"
      },
      "execution_count": null,
      "outputs": []
    },
    {
      "cell_type": "code",
      "source": [
        "\n",
        "myset = [1,2,3,1,34,5,36,22,22,22,6,1,7,8]\n",
        "myset = set(myset)\n",
        "print(myset)\n",
        "set1 = {\"hello\" , \"hey\",\"hi\"}\n",
        "print(myset.pop())\n",
        "print(myset)\n",
        "myset.add(15)\n",
        "print(myset)\n",
        "myset.remove(3)\n",
        "print(myset)\n",
        "myset = set1.copy()\n",
        "print(myset)\n",
        "set1.remove(\"hey\")\n",
        "print(set1)\n",
        "set1.clear()\n",
        "print(set1)"
      ],
      "metadata": {
        "colab": {
          "base_uri": "https://localhost:8080/"
        },
        "id": "pIWRdF9je3hg",
        "outputId": "80695855-b757-4b13-ecb8-3b89dc45d5b4"
      },
      "execution_count": null,
      "outputs": [
        {
          "output_type": "stream",
          "name": "stdout",
          "text": [
            "{1, 2, 3, 34, 5, 36, 6, 7, 8, 22}\n",
            "1\n",
            "{2, 3, 34, 5, 36, 6, 7, 8, 22}\n",
            "{2, 3, 34, 5, 36, 6, 7, 8, 15, 22}\n",
            "{2, 34, 5, 36, 6, 7, 8, 15, 22}\n",
            "{'hello', 'hi', 'hey'}\n",
            "{'hello', 'hi'}\n",
            "set()\n"
          ]
        }
      ]
    },
    {
      "cell_type": "markdown",
      "source": [
        "Ana is a data-scientist  who just started her career in Meta, however she needs to find the existance of new words on facebook hashtags and find the numbre of unique such words which need to be added to the existing facebook hastag library:\n",
        "\n",
        "facebook hastag library : [\"ootd\", \"lol\", \"ffs\", \"asap\"]\n",
        "daily facebook hastag words string: \" rofl lol macha bob ootd asap fun sweet16 ffs lol asap ootd ffs macha rofl bob ootd fun candid anime happyhours bob fun happyhours\"\n",
        "You will need to indivitually extract the words from the string and then solve this problem ?? How are you going to do that ? \n",
        "# Reading documentation should become a habit ....."
      ],
      "metadata": {
        "id": "na8tI4EH70Lt"
      }
    },
    {
      "cell_type": "code",
      "source": [
        "#solve the above problem and help ana do her work she may even hire you as her assistant!!!\n",
        "string =  \"rofl lol macha bob ootd asap fun sweet16 ffs lol asap ootd ffs macha rofl bob ootd fun candid anime happyhours bob fun happyhours\"\n",
        "word_list = []\n",
        "word = \"\"\n",
        "for i in string:\n",
        "  word = word + i\n",
        "  if(i==' '):\n",
        "    word_list.append(word)\n",
        "    word = \"\"\n",
        "print(word_list)\n",
        "hashtag = [\"ootd\" , \"lol\" , \"ffs\" , \"asap\"]\n",
        "count = 0\n",
        "lw = len(word_list)\n",
        "print(lw)\n",
        "#use split()\n",
        "#use set removes duplicates\n",
        "wor = list(set(word_list))\n",
        "print(wor)\n",
        "for i in range(len(wor)):\n",
        "  if wor[i] not in hashtag:\n",
        "    count+=1\n",
        "print(count)"
      ],
      "metadata": {
        "id": "0ww7Zs5BBiBQ",
        "colab": {
          "base_uri": "https://localhost:8080/"
        },
        "outputId": "44be46f1-d679-4c63-82bf-8efda3073368"
      },
      "execution_count": null,
      "outputs": [
        {
          "output_type": "stream",
          "name": "stdout",
          "text": [
            "['rofl ', 'lol ', 'macha ', 'bob ', 'ootd ', 'asap ', 'fun ', 'sweet16 ', 'ffs ', 'lol ', 'asap ', 'ootd ', 'ffs ', 'macha ', 'rofl ', 'bob ', 'ootd ', 'fun ', 'candid ', 'anime ', 'happyhours ', 'bob ', 'fun ']\n",
            "23\n",
            "['happyhours ', 'fun ', 'anime ', 'rofl ', 'ootd ', 'asap ', 'lol ', 'sweet16 ', 'ffs ', 'bob ', 'macha ', 'candid ']\n",
            "12\n"
          ]
        }
      ]
    },
    {
      "cell_type": "markdown",
      "source": [
        "DICTIONARIES AND ITS FUNCTIONALITY:"
      ],
      "metadata": {
        "id": "kMmUm2qI4wBP"
      }
    },
    {
      "cell_type": "code",
      "source": [
        "#explore the usage of dictionaries because it is literally so useful when in comes data science\n",
        "#a lot of the data you will be using will be as key-value pairs \n"
      ],
      "metadata": {
        "id": "oR-54dFT4zYN"
      },
      "execution_count": null,
      "outputs": []
    },
    {
      "cell_type": "markdown",
      "source": [
        "Given an unsorted list of some elements(may or may not be integers), Find the frequency of each distinct element in the list using a dictionary. \n",
        "Input : [1, 1, 1, 5, 5, 3, 1, 3, 3, 1,\n",
        "                  4, 4, 4, 2, 2, 2, 2]\n",
        "\n",
        "Output : 1 : 5\n",
        "         2 : 4\n",
        "         3 : 3\n",
        "         4 : 3\n",
        "         5 : 2\n",
        "\n"
      ],
      "metadata": {
        "id": "V-iZrEMlE30W"
      }
    },
    {
      "cell_type": "code",
      "source": [
        "# Python program to count the frequency of\n",
        "# elements in a list using a dictionary\n",
        "#dictionaries similar to hash maps\n",
        "def CountFrequency(my_list):\n",
        " \n",
        "    # Creating an empty dictionary\n",
        "    freq = {}\n",
        "    #------fill your code here-----------------\n",
        "    for i in my_list:\n",
        "      freq[i] = my_list.count(i)\n",
        "    print(freq)\n",
        "    \n",
        "# Driver function\n",
        "if __name__ == \"__main__\":\n",
        "    my_list =[1, 1, 1, 5, 5, 3, 1, 3, 3, 1, 4, 4, 4, 2, 2, 2, 2]\n",
        " \n",
        "    CountFrequency(my_list)"
      ],
      "metadata": {
        "id": "dPP6aUJaFbbv",
        "colab": {
          "base_uri": "https://localhost:8080/"
        },
        "outputId": "103a5973-4876-4a79-b8ea-b9f7d112ab02"
      },
      "execution_count": null,
      "outputs": [
        {
          "output_type": "stream",
          "name": "stdout",
          "text": [
            "{1: 5, 5: 2, 3: 3, 4: 3, 2: 4}\n"
          ]
        }
      ]
    },
    {
      "cell_type": "markdown",
      "source": [
        "Now that you have finished this basics exercise in python We shall now play in teams and winning Team doesn't get homework today !"
      ],
      "metadata": {
        "id": "7AoTxECAFvfc"
      }
    }
  ]
}